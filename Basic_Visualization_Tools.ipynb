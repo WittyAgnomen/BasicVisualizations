{
 "cells": [
  {
   "cell_type": "markdown",
   "metadata": {},
   "source": [
    "# Basic Python Visualization Tools\n",
    "\n",
    "Wheter you are an aspiring or actual data scientist, data analyst, or even just an analyst, there exists a lot of data these days. And because of this and the nature of your role, it is your job to help others understand all this data quickly and easily. Better put, you need to make large amounts of data easily digestiable for those around you. One great way to do this is: PICTURES! No not FB pics, but charts and graphs that let others quickly glean insight. \n",
    "\n",
    "With that said, this notebook is going introduce some of <b>python's basic visualiztion tools/packages</b>. The notebook will mostly use matplotlib and plotly.\n",
    "\n",
    "## Histogram\n",
    "\n",
    "A histogram is a graphical representation of the distribution of numerical data. It is an estimate of the probability distribution of a continuous variable (quantitative variable). To construct a histogram, the first step is to \"bin\" the range of values—that is, divide the entire range of values into a series of intervals—and then count how many values fall into each interval. The bins are usually specified as consecutive, non-overlapping intervals of a variable. The bins (intervals) must be adjacent, and are usually equal size.\n",
    "\n",
    "Below, the notebook plots a histogram using height data with matplotlib and plotly. "
   ]
  },
  {
   "cell_type": "code",
   "execution_count": 2,
   "metadata": {
    "collapsed": false
   },
   "outputs": [],
   "source": [
    "#Add some data to graph\n",
    "Height=[65.78, 71.52, 69.4, 68.22, 67.79, 68.7, 69.8, 70.01, 67.9, 66.78,\n",
    " 66.49, 67.62, 68.3, 67.12, 68.28, 71.09, 66.46, 68.65, 71.23, 67.13, 67.83, \n",
    "68.88, 63.48, 68.42, 67.63, 67.21, 70.84, 67.49, 66.53, 65.44, 69.52, 65.81, \n",
    "67.82, 70.6, 71.8, 69.21, 66.8, 67.66, 67.81, 64.05, 68.57, 65.18, 69.66, 67.97, \n",
    "65.98, 68.67, 66.88, 67.7, 69.82, 69.09]\n",
    "Weight=[112.99, 136.49, 153.03, 142.34, 144.3, 123.3, 141.49, 136.46, \n",
    "112.37, 120.67, 127.45, 114.14, 125.61, 122.46, 116.09, 140.0, 129.5, 142.97, \n",
    "137.9, 124.04, 141.28, 143.54, 97.9, 129.5, 141.85, 129.72, 142.42, 131.55, \n",
    "108.33, 113.89, 103.3, 120.75, 125.79, 136.22, 140.1, 128.75, 141.8, 121.23, \n",
    "131.35, 106.71, 124.36, 124.86, 139.67, 137.37, 106.45, 128.76, 145.68, 116.82, \n",
    "143.62, 134.93]"
   ]
  },
  {
   "cell_type": "code",
   "execution_count": 6,
   "metadata": {
    "collapsed": false
   },
   "outputs": [],
   "source": [
    "import matplotlib.pyplot as plt\n",
    "import numpy as np\n",
    "\n",
    "#use matplotlib.pyplot to make a histogram\n",
    "plt.hist(Height)\n",
    "plt.title(\"Heights\")\n",
    "plt.xlabel(\"Value\")\n",
    "plt.ylabel(\"Frequency\")\n",
    "\n",
    "plt.savefig('basichistogram.png')"
   ]
  },
  {
   "cell_type": "markdown",
   "metadata": {},
   "source": [
    "### Height Histogram with matplotlib\n",
    "\n",
    "<img src=\"basichistogram.png\" alt=\"basic histogram\" align=\"left\" style=\"width:304px;height:228px;\">"
   ]
  },
  {
   "cell_type": "code",
   "execution_count": 15,
   "metadata": {
    "collapsed": false
   },
   "outputs": [
    {
     "data": {
      "text/html": [
       "<iframe id=\"igraph\" scrolling=\"no\" style=\"border:none;\" seamless=\"seamless\" src=\"https://plot.ly/~WittyAgnomen/2.embed\" height=\"525px\" width=\"100%\"></iframe>"
      ],
      "text/plain": [
       "<plotly.tools.PlotlyDisplay object>"
      ]
     },
     "execution_count": 15,
     "metadata": {},
     "output_type": "execute_result"
    }
   ],
   "source": [
    "#plot using plotly\n",
    "import plotly.plotly as py\n",
    "import plotly.graph_objs as go\n",
    "\n",
    "data = [\n",
    "    go.Histogram(\n",
    "    x=Height\n",
    "    )\n",
    "]\n",
    "\n",
    "py.iplot(data, filename='basic-histogram')"
   ]
  },
  {
   "cell_type": "markdown",
   "metadata": {},
   "source": [
    "## Scatterplot\n",
    "\n",
    "A scatter plot is a type of plot or mathematical diagram using Cartesian coordinates to display values for typically two variables for a set of data. If the points are color-coded you can increase the number of displayed variables to three. The data is displayed as a collection of points, each having the value of one variable determining the position on the horizontal axis and the value of the other variable determining the position on the vertical axis.\n",
    "\n",
    "Below, the notebook graphs a scaterplot of weight vs height in matplotlib and plotly."
   ]
  },
  {
   "cell_type": "code",
   "execution_count": 39,
   "metadata": {
    "collapsed": true
   },
   "outputs": [],
   "source": [
    "#clear figure\n",
    "plt.clf()\n",
    "\n",
    "#ploat scatter plot\n",
    "plt.scatter(Weight,Height,color='green')\n",
    "\n",
    "#make titles\n",
    "plt.title(\"Weight vs Height\")\n",
    "plt.xlabel(\"Weight\")\n",
    "plt.ylabel(\"Height\")\n",
    "\n",
    "plt.savefig('basicscatter.png')"
   ]
  },
  {
   "cell_type": "markdown",
   "metadata": {},
   "source": [
    "### Weight Height Scatter Plot with matplotlib\n",
    "\n",
    "<img src=\"basicscatter.png\" alt=\"basic histogram\" align=\"left\" style=\"width:304px;height:228px;\">"
   ]
  },
  {
   "cell_type": "code",
   "execution_count": 16,
   "metadata": {
    "collapsed": false
   },
   "outputs": [
    {
     "data": {
      "text/html": [
       "<iframe id=\"igraph\" scrolling=\"no\" style=\"border:none;\" seamless=\"seamless\" src=\"https://plot.ly/~WittyAgnomen/4.embed\" height=\"525px\" width=\"100%\"></iframe>"
      ],
      "text/plain": [
       "<plotly.tools.PlotlyDisplay object>"
      ]
     },
     "execution_count": 16,
     "metadata": {},
     "output_type": "execute_result"
    }
   ],
   "source": [
    "# Graph scattr using plotly\n",
    "# Create a trace\n",
    "trace = go.Scatter(\n",
    "    x = Weight,\n",
    "    y = Height,\n",
    "    mode = 'markers'\n",
    ")\n",
    "\n",
    "data = [trace]\n",
    "\n",
    "# Plot and embed in ipython notebook!\n",
    "py.iplot(data, filename='basic-scatter')"
   ]
  },
  {
   "cell_type": "markdown",
   "metadata": {},
   "source": [
    "## Bar Chart\n",
    "\n",
    "A bar chart or bar graph is a chart that presents grouped data with rectangular bars with lengths proportional to the values that they represent. The bars can be plotted vertically or horizontally. A vertical bar chart is sometimes called a column bar chart.\n",
    "\n",
    "Below, the notebook plots a bar chart in both matplotlib and plotly. The notebook does a quick transfromation (data reduction/reduces number of observations) of the data just to make it more conveninet to work with a bar chart."
   ]
  },
  {
   "cell_type": "code",
   "execution_count": 32,
   "metadata": {
    "collapsed": false
   },
   "outputs": [],
   "source": [
    "#transform weight and height data into something more reasonable for a bar chart\n",
    "import graphlab as gl\n",
    "\n",
    "#put data into dataframe\n",
    "w=gl.SArray(Weight)\n",
    "h=gl.SArray(Height)\n",
    "sf=gl.SFrame([w,h])\n",
    "\n",
    "# arr for filter loop; will calculate ave heights for weight bins\n",
    "# weight bins will be average weight with in the arr boundaries\n",
    "arr=[0,110,120,130,140,150,300]\n",
    "weight_av=[]\n",
    "height_av=[]\n",
    "i=0\n",
    "while i<6:\n",
    "    sf['test']=sf['X1'].apply(lambda x: 1 if (x>=arr[i] and x<arr[i+1]) else 0)\n",
    "    test=sf.filter_by(1, 'test')\n",
    "    test.__materialize__()\n",
    "    weight_av.append(np.mean(list(test['X1'])))\n",
    "    height_av.append(np.mean(list(test['X2'])))\n",
    "    i+=1"
   ]
  },
  {
   "cell_type": "code",
   "execution_count": 33,
   "metadata": {
    "collapsed": false
   },
   "outputs": [
    {
     "data": {
      "text/plain": [
       "[104.53800000000001,\n",
       " 114.38333333333333,\n",
       " 125.421875,\n",
       " 135.77111111111111,\n",
       " 142.41461538461539,\n",
       " 153.03]"
      ]
     },
     "execution_count": 33,
     "metadata": {},
     "output_type": "execute_result"
    }
   ],
   "source": [
    "weight_av"
   ]
  },
  {
   "cell_type": "code",
   "execution_count": 34,
   "metadata": {
    "collapsed": false
   },
   "outputs": [
    {
     "data": {
      "text/plain": [
       "[65.912000000000006,\n",
       " 67.120000000000005,\n",
       " 67.470624999999984,\n",
       " 69.486666666666665,\n",
       " 68.925384615384615,\n",
       " 69.400000000000006]"
      ]
     },
     "execution_count": 34,
     "metadata": {},
     "output_type": "execute_result"
    }
   ],
   "source": [
    "height_av"
   ]
  },
  {
   "cell_type": "code",
   "execution_count": 41,
   "metadata": {
    "collapsed": true
   },
   "outputs": [],
   "source": [
    "#graph bar chart with matplotlib\n",
    "#clear figure\n",
    "plt.clf()\n",
    "\n",
    "#ploat scatter plot\n",
    "plt.bar(weight_av,height_av, width=2.0)\n",
    "\n",
    "#make titles\n",
    "plt.title(\"Weight Avs vs Height Avs in that Weight Bin\")\n",
    "plt.xlabel(\"Weight Avs\")\n",
    "plt.ylabel(\"Height Avs\")\n",
    "\n",
    "plt.savefig('basicbar.png')"
   ]
  },
  {
   "cell_type": "markdown",
   "metadata": {},
   "source": [
    "### Weight Height Bar Plot with matplotlib\n",
    "\n",
    "<img src=\"basicbar.png\" alt=\"basic bar\" align=\"left\" style=\"width:304px;height:228px;\">"
   ]
  },
  {
   "cell_type": "code",
   "execution_count": 42,
   "metadata": {
    "collapsed": false
   },
   "outputs": [
    {
     "data": {
      "text/html": [
       "<iframe id=\"igraph\" scrolling=\"no\" style=\"border:none;\" seamless=\"seamless\" src=\"https://plot.ly/~WittyAgnomen/6.embed\" height=\"525px\" width=\"100%\"></iframe>"
      ],
      "text/plain": [
       "<plotly.tools.PlotlyDisplay object>"
      ]
     },
     "execution_count": 42,
     "metadata": {},
     "output_type": "execute_result"
    }
   ],
   "source": [
    "#create bar chart in plotly\n",
    "#set up data to be plotted\n",
    "trace0 = go.Bar(\n",
    "    x=weight_av,\n",
    "    y=height_av,\n",
    "    text=['ave wieght in 0 to 110 group', 'ave wieght in 110 to 120 group','ave wieght in 120 to 130 group','ave wieght in 130 to 140 group','ave wieght in 140 to 150 group','ave wieght in 150 to 300 group'],\n",
    "    marker=dict(\n",
    "        color='rgb(158,202,225)',\n",
    "        line=dict(\n",
    "            color='rgb(8,48,107)',\n",
    "            width=1.5,\n",
    "        )\n",
    "    ),\n",
    "    opacity=0.6\n",
    ")\n",
    "\n",
    "data = [trace0]\n",
    "#add title\n",
    "layout = go.Layout(\n",
    "    title='Weight Avs vs Height Avs in that Weight Bin',\n",
    ")\n",
    "\n",
    "#set figure\n",
    "fig = go.Figure(data=data, layout=layout)\n",
    "py.iplot(fig, filename='text-hover-bar')"
   ]
  },
  {
   "cell_type": "markdown",
   "metadata": {},
   "source": [
    "## Making horizontal bar charts"
   ]
  },
  {
   "cell_type": "code",
   "execution_count": 48,
   "metadata": {
    "collapsed": false
   },
   "outputs": [],
   "source": [
    "#graph bar chart with matplotlib\n",
    "#clear figure\n",
    "plt.clf()\n",
    "\n",
    "#ploat scatter plot\n",
    "plt.barh(weight_av,height_av)\n",
    "\n",
    "#make titles\n",
    "plt.title(\"Weight Avs vs Height Avs in that Weight Bin\")\n",
    "plt.xlabel(\"Height Avs\")\n",
    "plt.ylabel(\"Weight Avs\")\n",
    "\n",
    "plt.savefig('basicbar_h.png')"
   ]
  },
  {
   "cell_type": "markdown",
   "metadata": {},
   "source": [
    "### Weight Height Horizontal Bar Plot with matplotlib\n",
    "\n",
    "<img src=\"basicbar_h.png\" alt=\"basic bar h\" align=\"left\" style=\"width:304px;height:228px;\">"
   ]
  },
  {
   "cell_type": "code",
   "execution_count": 49,
   "metadata": {
    "collapsed": false
   },
   "outputs": [
    {
     "data": {
      "text/html": [
       "<iframe id=\"igraph\" scrolling=\"no\" style=\"border:none;\" seamless=\"seamless\" src=\"https://plot.ly/~WittyAgnomen/8.embed\" height=\"525px\" width=\"100%\"></iframe>"
      ],
      "text/plain": [
       "<plotly.tools.PlotlyDisplay object>"
      ]
     },
     "execution_count": 49,
     "metadata": {},
     "output_type": "execute_result"
    }
   ],
   "source": [
    "#create horizontal bar chart in plotly\n",
    "#set up data to be plotted\n",
    "trace0 = go.Bar(\n",
    "    x=height_av,\n",
    "    y=weight_av,\n",
    "    text=['ave wieght in 0 to 110 group', 'ave wieght in 110 to 120 group','ave wieght in 120 to 130 group','ave wieght in 130 to 140 group','ave wieght in 140 to 150 group','ave wieght in 150 to 300 group'],\n",
    "    orientation = 'h',\n",
    "    marker=dict(\n",
    "        color='rgb(158,202,225)',\n",
    "        line=dict(\n",
    "            color='rgb(8,48,107)',\n",
    "            width=3,\n",
    "        )\n",
    "    ),\n",
    "    opacity=0.6\n",
    ")\n",
    "\n",
    "data = [trace0]\n",
    "#add title\n",
    "layout = go.Layout(\n",
    "    title='Horizontal Bar Chart',\n",
    ")\n",
    "\n",
    "#set figure\n",
    "fig = go.Figure(data=data, layout=layout)\n",
    "py.iplot(fig, filename='text-hover-h-bar')"
   ]
  },
  {
   "cell_type": "markdown",
   "metadata": {},
   "source": [
    "## Conclusion\n",
    "\n",
    "Well, that is it for the basic visualization tools. This notebook has only scratched the service. You can use these basic tools to create much more meaningful and aesthetically appealing visualizations; you just need to play around and explore. You can also, learn about other unique visualization tools that exist: word clouds, infographics, etc. \n",
    "\n",
    "This webpage also can aid in learning about other visualization packages in python: \n",
    "<a href=\"http://pbpython.com/visualization-tools-1.html\">visualization tools</a>.\n",
    "\n",
    "Anyway, Happy Exploring.\n",
    " "
   ]
  }
 ],
 "metadata": {
  "kernelspec": {
   "display_name": "Python 2",
   "language": "python",
   "name": "python2"
  },
  "language_info": {
   "codemirror_mode": {
    "name": "ipython",
    "version": 2
   },
   "file_extension": ".py",
   "mimetype": "text/x-python",
   "name": "python",
   "nbconvert_exporter": "python",
   "pygments_lexer": "ipython2",
   "version": "2.7.11"
  }
 },
 "nbformat": 4,
 "nbformat_minor": 0
}
